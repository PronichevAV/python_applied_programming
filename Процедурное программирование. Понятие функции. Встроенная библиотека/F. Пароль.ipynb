{
 "cells": [
  {
   "cell_type": "markdown",
   "id": "tracked-captain",
   "metadata": {},
   "source": [
    "# Задание \"Пароль\""
   ]
  },
  {
   "cell_type": "markdown",
   "id": "suitable-pacific",
   "metadata": {},
   "source": [
    "Веб-сайт требует, чтобы пользователи вводили пароль для регистрации, соответствующий определенным требованиям.\n",
    "\n",
    "Напишите программу для проверки правильности ввода пароля пользователями.\n",
    "\n",
    "Ниже приведены критерии проверки пароля:\n",
    "1. Минимум 1 буква латинского алфавита в нижнем регистре [az]\n",
    "2. Минимум 1 число от [0–9]\n",
    "3. Минимум 1 буква латинского алфавита в верхнем регистре [AZ]\n",
    "4. Минимум 1 специальный символ\n",
    "5. Минимальная длина пароля : 6\n",
    "6. Максимальная длина пароля: 12\n",
    "\n",
    "Программа должна возвращать True или False."
   ]
  },
  {
   "cell_type": "markdown",
   "id": "flexible-draft",
   "metadata": {},
   "source": [
    "## Формат ввода\n",
    "\n",
    "***Passw1#0rd***\n",
    "\n",
    "## Формат вывода\n",
    "\n",
    "***True***"
   ]
  },
  {
   "cell_type": "markdown",
   "id": "diverse-makeup",
   "metadata": {},
   "source": [
    "## Решение"
   ]
  },
  {
   "cell_type": "code",
   "execution_count": 1,
   "id": "threaded-award",
   "metadata": {},
   "outputs": [],
   "source": [
    "import re\n",
    "\n",
    "def check_password(password):\n",
    "    if bool(re.findall('[a-z]', password))\\\n",
    "            and bool(re.findall('[A-Z]', password))\\\n",
    "            and bool(re.findall('[0-9]', password))\\\n",
    "            and bool(re.findall('[\\W]', password)) \\\n",
    "            and 6 <= len(password) <= 12:\n",
    "        print(True)\n",
    "    else:\n",
    "        print(False)"
   ]
  },
  {
   "cell_type": "markdown",
   "id": "monthly-samoa",
   "metadata": {},
   "source": [
    "## Проверка"
   ]
  },
  {
   "cell_type": "code",
   "execution_count": 2,
   "id": "signed-cassette",
   "metadata": {},
   "outputs": [],
   "source": [
    "test = ['Passw1#0rd',\n",
    "        '1234567']"
   ]
  },
  {
   "cell_type": "code",
   "execution_count": 3,
   "id": "southern-collar",
   "metadata": {},
   "outputs": [
    {
     "name": "stdout",
     "output_type": "stream",
     "text": [
      "Passw1#0rd\n",
      "True\n",
      "...\n",
      "1234567\n",
      "False\n",
      "...\n"
     ]
    }
   ],
   "source": [
    "for x in test:\n",
    "    print(x), check_password(x), print('...')"
   ]
  },
  {
   "cell_type": "code",
   "execution_count": null,
   "id": "breeding-education",
   "metadata": {},
   "outputs": [],
   "source": []
  }
 ],
 "metadata": {
  "kernelspec": {
   "display_name": "Python 3",
   "language": "python",
   "name": "python3"
  },
  "language_info": {
   "codemirror_mode": {
    "name": "ipython",
    "version": 3
   },
   "file_extension": ".py",
   "mimetype": "text/x-python",
   "name": "python",
   "nbconvert_exporter": "python",
   "pygments_lexer": "ipython3",
   "version": "3.8.3"
  }
 },
 "nbformat": 4,
 "nbformat_minor": 5
}
