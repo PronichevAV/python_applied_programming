{
 "cells": [
  {
   "cell_type": "markdown",
   "id": "derived-dragon",
   "metadata": {},
   "source": [
    "# Задание \"Самое длинное слово\""
   ]
  },
  {
   "cell_type": "markdown",
   "id": "delayed-accident",
   "metadata": {},
   "source": [
    "Напишите функцию, которая будет возвращать самое длинное слово в предложении. Если найдено более одного слова, то функция возвращает первое"
   ]
  },
  {
   "cell_type": "markdown",
   "id": "metropolitan-thumbnail",
   "metadata": {},
   "source": [
    "## Формат ввода\n",
    "\n",
    "***The Tower of London was built in the 15th century***\n",
    "\n",
    "## Формат вывода\n",
    "\n",
    "***century***"
   ]
  },
  {
   "cell_type": "markdown",
   "id": "small-carroll",
   "metadata": {},
   "source": [
    "## Решение"
   ]
  },
  {
   "cell_type": "code",
   "execution_count": 1,
   "id": "level-night",
   "metadata": {},
   "outputs": [],
   "source": [
    "def longest_word(a):\n",
    "    la = a.split()\n",
    "    lb = []\n",
    "    length = 0\n",
    "    for x in la:\n",
    "        if len(x) > length:\n",
    "            length = len(x)\n",
    "            lb.append(x)\n",
    "    print(lb[-1])"
   ]
  },
  {
   "cell_type": "markdown",
   "id": "fallen-semiconductor",
   "metadata": {},
   "source": [
    "## Проверка"
   ]
  },
  {
   "cell_type": "code",
   "execution_count": 2,
   "id": "downtown-visit",
   "metadata": {},
   "outputs": [],
   "source": [
    "test = ['The Tower of London was built in the 15th century',\n",
    "        'Server App Starting buffering']"
   ]
  },
  {
   "cell_type": "code",
   "execution_count": 3,
   "id": "adjustable-natural",
   "metadata": {},
   "outputs": [
    {
     "name": "stdout",
     "output_type": "stream",
     "text": [
      "The Tower of London was built in the 15th century\n",
      "century\n",
      "...\n",
      "Server App Starting buffering\n",
      "buffering\n",
      "...\n"
     ]
    }
   ],
   "source": [
    "for x in test:\n",
    "    print(x), longest_word(x), print('...')"
   ]
  }
 ],
 "metadata": {
  "kernelspec": {
   "display_name": "Python 3",
   "language": "python",
   "name": "python3"
  },
  "language_info": {
   "codemirror_mode": {
    "name": "ipython",
    "version": 3
   },
   "file_extension": ".py",
   "mimetype": "text/x-python",
   "name": "python",
   "nbconvert_exporter": "python",
   "pygments_lexer": "ipython3",
   "version": "3.8.3"
  }
 },
 "nbformat": 4,
 "nbformat_minor": 5
}
