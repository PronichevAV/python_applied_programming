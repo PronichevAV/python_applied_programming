{
 "cells": [
  {
   "cell_type": "markdown",
   "id": "early-insurance",
   "metadata": {},
   "source": [
    "# Задание \"Римские цифры\""
   ]
  },
  {
   "cell_type": "markdown",
   "id": "cloudy-leave",
   "metadata": {},
   "source": [
    "Создайте функцию, которая принимает на вход римское число как строку и преобразует ее в целое число, возвращая результат. Функция должна работать для всех римских цифр, представляющих натуральные числа меньше 4000."
   ]
  },
  {
   "cell_type": "markdown",
   "id": "valid-roberts",
   "metadata": {},
   "source": [
    "## Формат ввода\n",
    "\n",
    "***MMMCMV***\n",
    "\n",
    "## Формат вывода\n",
    "\n",
    "***3905***"
   ]
  },
  {
   "cell_type": "markdown",
   "id": "dried-adjustment",
   "metadata": {},
   "source": [
    "## Решение"
   ]
  },
  {
   "cell_type": "code",
   "execution_count": 1,
   "id": "prompt-doctrine",
   "metadata": {},
   "outputs": [],
   "source": [
    "def convert_to_arabic(z):\n",
    "    roman = {'M': 1000, 'D': 500, 'C': 100, 'L': 50, 'X': 10, 'V': 5, 'I': 1}\n",
    "    l_rom = []\n",
    "    for x in z:\n",
    "        for key in roman:\n",
    "            if x == key:\n",
    "                l_rom.append(roman.get(key))\n",
    "    arab = 0\n",
    "    for i in range(len(l_rom)):\n",
    "        if i < len(l_rom) - 1:\n",
    "            if l_rom[i] < l_rom[i + 1]:\n",
    "                arab -= l_rom[i]\n",
    "            else:\n",
    "                arab += l_rom[i]\n",
    "        else:\n",
    "            arab += l_rom[i]\n",
    "    print(arab)"
   ]
  },
  {
   "cell_type": "markdown",
   "id": "future-functionality",
   "metadata": {},
   "source": [
    "## Проверка"
   ]
  },
  {
   "cell_type": "code",
   "execution_count": 2,
   "id": "electrical-detail",
   "metadata": {},
   "outputs": [],
   "source": [
    "test = ['MMMCMV', 'MXVII']"
   ]
  },
  {
   "cell_type": "code",
   "execution_count": 3,
   "id": "laughing-diameter",
   "metadata": {},
   "outputs": [
    {
     "name": "stdout",
     "output_type": "stream",
     "text": [
      "MMMCMV\n",
      "3905\n",
      "...\n",
      "MXVII\n",
      "1017\n",
      "...\n"
     ]
    }
   ],
   "source": [
    "for x in test:\n",
    "    print(x), convert_to_arabic(x), print('...')"
   ]
  },
  {
   "cell_type": "code",
   "execution_count": null,
   "id": "micro-banana",
   "metadata": {},
   "outputs": [],
   "source": []
  }
 ],
 "metadata": {
  "kernelspec": {
   "display_name": "Python 3",
   "language": "python",
   "name": "python3"
  },
  "language_info": {
   "codemirror_mode": {
    "name": "ipython",
    "version": 3
   },
   "file_extension": ".py",
   "mimetype": "text/x-python",
   "name": "python",
   "nbconvert_exporter": "python",
   "pygments_lexer": "ipython3",
   "version": "3.8.3"
  }
 },
 "nbformat": 4,
 "nbformat_minor": 5
}
