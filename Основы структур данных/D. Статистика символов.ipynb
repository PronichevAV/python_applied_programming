{
 "cells": [
  {
   "cell_type": "markdown",
   "id": "departmental-explanation",
   "metadata": {},
   "source": [
    "# Задание \"Статистика символов\""
   ]
  },
  {
   "cell_type": "markdown",
   "id": "extensive-consultancy",
   "metadata": {},
   "source": [
    "Для строки вывести статистику по количеству входящих в нее символов (без учета регистра), сортируя по алфавиту. Игнорируйте всё, кроме букв латиницы и кириллицы. Вывод: символ, пробел, количество. Приоритет вывода у латиницы, вывод символов в нижнем регистре."
   ]
  },
  {
   "cell_type": "markdown",
   "id": "central-boundary",
   "metadata": {},
   "source": [
    "## Формат ввода\n",
    "\n",
    "***Hello 123 ** hello мама***\n",
    "\n",
    "## Формат вывода\n",
    "\n",
    "***e 2***\n",
    "\n",
    "***h 2***\n",
    "\n",
    "***l 4***\n",
    "\n",
    "***o 2***\n",
    "\n",
    "***а 2***\n",
    "\n",
    "***м 2***"
   ]
  },
  {
   "cell_type": "markdown",
   "id": "failing-allen",
   "metadata": {},
   "source": [
    "## Решение"
   ]
  },
  {
   "cell_type": "code",
   "execution_count": 1,
   "id": "sensitive-thanksgiving",
   "metadata": {},
   "outputs": [],
   "source": [
    "def symb_stat(a):\n",
    "    a = str(a).lower()\n",
    "    la = list(a)\n",
    "    lb = []\n",
    "    for x in la:\n",
    "        if x.isalpha() is True:\n",
    "            lb.append(x)\n",
    "    sc = ''.join(map(str, lb))\n",
    "    lc = list(sc)\n",
    "    w = list(set(lc))\n",
    "    w.sort()\n",
    "    for y in w:\n",
    "        print(y, la.count(y))\n"
   ]
  },
  {
   "cell_type": "markdown",
   "id": "lasting-boxing",
   "metadata": {},
   "source": [
    "## Проверка"
   ]
  },
  {
   "cell_type": "code",
   "execution_count": 2,
   "id": "fiscal-fraction",
   "metadata": {},
   "outputs": [],
   "source": [
    "test = ['Hello 123 ** hello мама',\n",
    "        'ggg$yuuue#eeejjjj#jjj']"
   ]
  },
  {
   "cell_type": "code",
   "execution_count": 3,
   "id": "delayed-inspector",
   "metadata": {},
   "outputs": [
    {
     "name": "stdout",
     "output_type": "stream",
     "text": [
      "Hello 123 ** hello мама\n",
      "e 2\n",
      "h 2\n",
      "l 4\n",
      "o 2\n",
      "а 2\n",
      "м 2\n",
      "...\n",
      "ggg$yuuue#eeejjjj#jjj\n",
      "e 4\n",
      "g 3\n",
      "j 7\n",
      "u 3\n",
      "y 1\n",
      "...\n"
     ]
    }
   ],
   "source": [
    "for x in test:\n",
    "    print(x), symb_stat(x), print('...')"
   ]
  },
  {
   "cell_type": "code",
   "execution_count": null,
   "id": "adverse-tomato",
   "metadata": {},
   "outputs": [],
   "source": []
  }
 ],
 "metadata": {
  "kernelspec": {
   "display_name": "Python 3",
   "language": "python",
   "name": "python3"
  },
  "language_info": {
   "codemirror_mode": {
    "name": "ipython",
    "version": 3
   },
   "file_extension": ".py",
   "mimetype": "text/x-python",
   "name": "python",
   "nbconvert_exporter": "python",
   "pygments_lexer": "ipython3",
   "version": "3.8.3"
  }
 },
 "nbformat": 4,
 "nbformat_minor": 5
}
