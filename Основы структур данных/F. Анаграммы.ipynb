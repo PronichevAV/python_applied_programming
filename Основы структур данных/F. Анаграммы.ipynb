{
 "cells": [
  {
   "cell_type": "markdown",
   "id": "innovative-prayer",
   "metadata": {},
   "source": [
    "# Задание \"Анаграммы\""
   ]
  },
  {
   "cell_type": "markdown",
   "id": "trained-member",
   "metadata": {},
   "source": [
    "Дана строка текста (кириллица) со словами через пробел. Среди слов найти все пары анаграмм. Пары анаграмм вывести в алфавитном порядке, среди пар сортировка тоже по алфавиту. Каждая пара выводится в новой строке в нижнем регистре."
   ]
  },
  {
   "cell_type": "markdown",
   "id": "incorrect-computer",
   "metadata": {},
   "source": [
    "## Формат ввода\n",
    "\n",
    "***Кот нос ток сон клад рама вход книга вдох***\n",
    "\n",
    "## Формат вывода\n",
    "\n",
    "***вдох вход***\n",
    "\n",
    "***кот ток***\n",
    "\n",
    "***нос сон***"
   ]
  },
  {
   "cell_type": "markdown",
   "id": "finite-shakespeare",
   "metadata": {},
   "source": [
    "## Решение"
   ]
  },
  {
   "cell_type": "code",
   "execution_count": 1,
   "id": "looking-brass",
   "metadata": {},
   "outputs": [],
   "source": [
    "def anagram(a):\n",
    "    a = str(a).lower()\n",
    "    la = a.split()\n",
    "    map(str, la)\n",
    "    lb = []\n",
    "    lc = []\n",
    "    for x in la:\n",
    "        lb.append(list(x))\n",
    "    for y in lb:\n",
    "        for z in lb:\n",
    "            if len(y) == len(z):\n",
    "                bol = 0\n",
    "                for v in y:\n",
    "                    if v in z:\n",
    "                        bol += 1\n",
    "                if bol == len(y) and y != z:\n",
    "                    lc.append([''.join(y), ''.join(z)])\n",
    "    for n in lc:\n",
    "        n.sort()\n",
    "    lc.sort()\n",
    "    ld = []\n",
    "    for e in lc:\n",
    "        if e not in ld:\n",
    "            ld.append(e)\n",
    "    for h in ld:\n",
    "        print(h[0], h[1])\n"
   ]
  },
  {
   "cell_type": "markdown",
   "id": "arranged-sword",
   "metadata": {},
   "source": [
    "## Проверка"
   ]
  },
  {
   "cell_type": "code",
   "execution_count": 2,
   "id": "random-illustration",
   "metadata": {},
   "outputs": [],
   "source": [
    "test = ['Кот нос ток сон клад рама вход книга вдох',\n",
    "        'кУКла АзбукА кабан баЗука баНкА кулак']"
   ]
  },
  {
   "cell_type": "code",
   "execution_count": 3,
   "id": "micro-price",
   "metadata": {},
   "outputs": [
    {
     "name": "stdout",
     "output_type": "stream",
     "text": [
      "Кот нос ток сон клад рама вход книга вдох\n",
      "вдох вход\n",
      "кот ток\n",
      "нос сон\n",
      "...\n",
      "кУКла АзбукА кабан баЗука баНкА кулак\n",
      "азбука базука\n",
      "банка кабан\n",
      "кукла кулак\n",
      "...\n"
     ]
    }
   ],
   "source": [
    "for x in test:\n",
    "    print(x), anagram(x), print('...')"
   ]
  },
  {
   "cell_type": "code",
   "execution_count": null,
   "id": "parallel-tournament",
   "metadata": {},
   "outputs": [],
   "source": []
  }
 ],
 "metadata": {
  "kernelspec": {
   "display_name": "Python 3",
   "language": "python",
   "name": "python3"
  },
  "language_info": {
   "codemirror_mode": {
    "name": "ipython",
    "version": 3
   },
   "file_extension": ".py",
   "mimetype": "text/x-python",
   "name": "python",
   "nbconvert_exporter": "python",
   "pygments_lexer": "ipython3",
   "version": "3.8.3"
  }
 },
 "nbformat": 4,
 "nbformat_minor": 5
}
