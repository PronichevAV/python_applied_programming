{
 "cells": [
  {
   "cell_type": "markdown",
   "id": "narrow-example",
   "metadata": {},
   "source": [
    "# Задание \"Комментарии\""
   ]
  },
  {
   "cell_type": "markdown",
   "id": "manual-desperate",
   "metadata": {},
   "source": [
    "Большинство сайтов предоставляет возможность оставить комментарий, поэтому необходимо вести их учет, иногда можно увидеть такую запись:\n",
    "\n",
    "***Комментарии (28)***\n",
    "\n",
    "Давайте составим программу, которая будет записывать слово \"комментарий\" в нужной форме, например:\n",
    "\n",
    "***24 комментария***\n",
    "\n",
    "На вход вашей программе подается число, необходимо вывести слово \"комментарий\" в нужной форме."
   ]
  },
  {
   "cell_type": "markdown",
   "id": "entire-wright",
   "metadata": {},
   "source": [
    "## Формат ввода\n",
    "\n",
    "***1***\n",
    "\n",
    "## Формат вывода\n",
    "\n",
    "***комментарий***"
   ]
  },
  {
   "cell_type": "markdown",
   "id": "abandoned-evidence",
   "metadata": {},
   "source": [
    "## Решение"
   ]
  },
  {
   "cell_type": "code",
   "execution_count": 1,
   "id": "aquatic-record",
   "metadata": {},
   "outputs": [],
   "source": [
    "def comments(a):\n",
    "    a = str(a)\n",
    "    if int(a[-1]) == 1 and int(a) != 11:\n",
    "        print('комментарий')\n",
    "    elif a[-1] in ['2', '3', '4'] and int(a) not in [12, 13, 14]:\n",
    "        print('комментария')\n",
    "    else:\n",
    "        print('комментариев')"
   ]
  },
  {
   "cell_type": "markdown",
   "id": "speaking-hierarchy",
   "metadata": {},
   "source": [
    "## Проверка"
   ]
  },
  {
   "cell_type": "code",
   "execution_count": 2,
   "id": "complicated-excellence",
   "metadata": {},
   "outputs": [],
   "source": [
    "test = [1, 2, 4, 11, 12 , 15, 21, 223, 1050, 28064]"
   ]
  },
  {
   "cell_type": "code",
   "execution_count": 3,
   "id": "given-injection",
   "metadata": {},
   "outputs": [
    {
     "name": "stdout",
     "output_type": "stream",
     "text": [
      "1\n",
      "комментарий\n",
      "\n",
      "2\n",
      "комментария\n",
      "\n",
      "4\n",
      "комментария\n",
      "\n",
      "11\n",
      "комментариев\n",
      "\n",
      "12\n",
      "комментариев\n",
      "\n",
      "15\n",
      "комментариев\n",
      "\n",
      "21\n",
      "комментарий\n",
      "\n",
      "223\n",
      "комментария\n",
      "\n",
      "1050\n",
      "комментариев\n",
      "\n",
      "28064\n",
      "комментария\n",
      "\n"
     ]
    }
   ],
   "source": [
    "for x in test:\n",
    "    print(x), comments(x), print()"
   ]
  },
  {
   "cell_type": "code",
   "execution_count": null,
   "id": "premier-reminder",
   "metadata": {},
   "outputs": [],
   "source": []
  }
 ],
 "metadata": {
  "kernelspec": {
   "display_name": "Python 3",
   "language": "python",
   "name": "python3"
  },
  "language_info": {
   "codemirror_mode": {
    "name": "ipython",
    "version": 3
   },
   "file_extension": ".py",
   "mimetype": "text/x-python",
   "name": "python",
   "nbconvert_exporter": "python",
   "pygments_lexer": "ipython3",
   "version": "3.8.3"
  }
 },
 "nbformat": 4,
 "nbformat_minor": 5
}
