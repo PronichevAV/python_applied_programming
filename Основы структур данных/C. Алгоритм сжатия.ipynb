{
 "cells": [
  {
   "cell_type": "markdown",
   "id": "packed-landscape",
   "metadata": {},
   "source": [
    "# Задание \"Алгоритм сжатия\""
   ]
  },
  {
   "cell_type": "markdown",
   "id": "revised-butter",
   "metadata": {},
   "source": [
    "Написать программу для сжатия строки, в которой алгоритм работает следующим образом: string = 'xxxxtttсyyaaa' преобразуется в 'x4t3с1y2a3', то есть последовательность одинаковых символов строки заменяется на этот символ и количество его повторений в текущей позиции строки."
   ]
  },
  {
   "cell_type": "markdown",
   "id": "prostate-raise",
   "metadata": {},
   "source": [
    "## Формат ввода\n",
    "\n",
    "***xxxxtttсyyaaa***\n",
    "\n",
    "## Формат вывода\n",
    "\n",
    "***x4t3с1y2a3***"
   ]
  },
  {
   "cell_type": "markdown",
   "id": "portable-pricing",
   "metadata": {},
   "source": [
    "## Решение"
   ]
  },
  {
   "cell_type": "code",
   "execution_count": 1,
   "id": "ongoing-absolute",
   "metadata": {},
   "outputs": [],
   "source": [
    "def compression(st):\n",
    "    st = str(st)\n",
    "    a = list(st)\n",
    "    la = []\n",
    "    y = 1\n",
    "    for x in range(len(a)):\n",
    "        if x != len(a) - 1:\n",
    "            if a[x] == a[x+1]:\n",
    "                y += 1\n",
    "            else:\n",
    "                la.append(a[x])\n",
    "                la.append(y)\n",
    "                y = 1\n",
    "        else:\n",
    "            la.append(a[x])\n",
    "            la.append(y)\n",
    "    result = ''.join(map(str, la))\n",
    "    print(result)\n"
   ]
  },
  {
   "cell_type": "markdown",
   "id": "ancient-mayor",
   "metadata": {},
   "source": [
    "## Проверка"
   ]
  },
  {
   "cell_type": "code",
   "execution_count": 2,
   "id": "perceived-private",
   "metadata": {},
   "outputs": [],
   "source": [
    "test = ['xxxxtttсyyaaa',\n",
    "        'gggyuuueeeejjjjjjj']"
   ]
  },
  {
   "cell_type": "code",
   "execution_count": 3,
   "id": "ethical-newsletter",
   "metadata": {},
   "outputs": [
    {
     "name": "stdout",
     "output_type": "stream",
     "text": [
      "xxxxtttсyyaaa\n",
      "x4t3с1y2a3\n",
      "...\n",
      "gggyuuueeeejjjjjjj\n",
      "g3y1u3e4j7\n",
      "...\n"
     ]
    }
   ],
   "source": [
    "for x in test:\n",
    "    print(x), compression(x), print('...')"
   ]
  }
 ],
 "metadata": {
  "kernelspec": {
   "display_name": "Python 3",
   "language": "python",
   "name": "python3"
  },
  "language_info": {
   "codemirror_mode": {
    "name": "ipython",
    "version": 3
   },
   "file_extension": ".py",
   "mimetype": "text/x-python",
   "name": "python",
   "nbconvert_exporter": "python",
   "pygments_lexer": "ipython3",
   "version": "3.8.3"
  }
 },
 "nbformat": 4,
 "nbformat_minor": 5
}
