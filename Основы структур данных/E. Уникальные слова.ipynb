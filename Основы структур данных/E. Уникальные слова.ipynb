{
 "cells": [
  {
   "cell_type": "markdown",
   "id": "expressed-maximum",
   "metadata": {},
   "source": [
    "# Задание \"Уникальные слова\""
   ]
  },
  {
   "cell_type": "markdown",
   "id": "eight-shannon",
   "metadata": {},
   "source": [
    "Написать программу, которая из исходной строки оставляет только уникальные слова (без учета регистра), но в том порядке, в котором они первый раз встретились. Слова разделены пробелом, вывод слов в нижнем регистре."
   ]
  },
  {
   "cell_type": "markdown",
   "id": "greater-present",
   "metadata": {},
   "source": [
    "## Формат ввода\n",
    "\n",
    "***Мама мыла раму мыла мама папа привет***\n",
    "\n",
    "## Формат вывода\n",
    "\n",
    "***мама мыла раму папа привет***"
   ]
  },
  {
   "cell_type": "markdown",
   "id": "classical-reynolds",
   "metadata": {},
   "source": [
    "## Решение"
   ]
  },
  {
   "cell_type": "code",
   "execution_count": 1,
   "id": "mature-commander",
   "metadata": {},
   "outputs": [],
   "source": [
    "def unique_word(a):\n",
    "    a = str(a).lower()\n",
    "    la = a.split()\n",
    "    lb = []\n",
    "    for x in la:\n",
    "        lb.append(la.index(x))\n",
    "    lc = list(set(lb))\n",
    "    ld = []\n",
    "    for y in lc:\n",
    "        ld.append(la[y])\n",
    "    le = ' '.join(ld)\n",
    "    print(le)"
   ]
  },
  {
   "cell_type": "markdown",
   "id": "perfect-separation",
   "metadata": {},
   "source": [
    "## Проверка"
   ]
  },
  {
   "cell_type": "code",
   "execution_count": 2,
   "id": "median-mission",
   "metadata": {},
   "outputs": [],
   "source": [
    "test = ['Мама мыла раму мыла мама папа привет',\n",
    "        'На дворе трава на траве дрова не руби дрова на траве двора']"
   ]
  },
  {
   "cell_type": "code",
   "execution_count": 3,
   "id": "organizational-bicycle",
   "metadata": {},
   "outputs": [
    {
     "name": "stdout",
     "output_type": "stream",
     "text": [
      "Мама мыла раму мыла мама папа привет\n",
      "мама мыла раму папа привет\n",
      "...\n",
      "На дворе трава на траве дрова не руби дрова на траве двора\n",
      "на дворе трава траве дрова не руби двора\n",
      "...\n"
     ]
    }
   ],
   "source": [
    "for x in test:\n",
    "    print(x), unique_word(x), print('...')"
   ]
  },
  {
   "cell_type": "code",
   "execution_count": null,
   "id": "contrary-netherlands",
   "metadata": {},
   "outputs": [],
   "source": []
  }
 ],
 "metadata": {
  "kernelspec": {
   "display_name": "Python 3",
   "language": "python",
   "name": "python3"
  },
  "language_info": {
   "codemirror_mode": {
    "name": "ipython",
    "version": 3
   },
   "file_extension": ".py",
   "mimetype": "text/x-python",
   "name": "python",
   "nbconvert_exporter": "python",
   "pygments_lexer": "ipython3",
   "version": "3.8.3"
  }
 },
 "nbformat": 4,
 "nbformat_minor": 5
}
