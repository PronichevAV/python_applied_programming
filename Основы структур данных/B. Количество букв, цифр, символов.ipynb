{
 "cells": [
  {
   "cell_type": "markdown",
   "id": "chief-fighter",
   "metadata": {},
   "source": [
    "# Задание \"Количество букв, цифр, символов\""
   ]
  },
  {
   "cell_type": "markdown",
   "id": "enclosed-humor",
   "metadata": {},
   "source": [
    "Напишите программу, которая принимает на вход строку текста и вычисляет количество букв (кириллица, латиница в любом регистре), цифр и специальных символов. При выводе в первой строке указывается количество букв, во второй - количество цифр, в третьей - количество специальных символов."
   ]
  },
  {
   "cell_type": "markdown",
   "id": "cellular-behavior",
   "metadata": {},
   "source": [
    "## Формат ввода\n",
    "\n",
    "\\*\\*_**Hello123**_\\*\\*\n",
    "\n",
    "## Формат вывода\n",
    "\n",
    "***5***\n",
    "\n",
    "***3***\n",
    "\n",
    "***4***"
   ]
  },
  {
   "cell_type": "markdown",
   "id": "continental-european",
   "metadata": {},
   "source": [
    "## Решение"
   ]
  },
  {
   "cell_type": "code",
   "execution_count": 1,
   "id": "unlike-pipeline",
   "metadata": {},
   "outputs": [],
   "source": [
    "def count_symbols(a):\n",
    "    a = str(a)\n",
    "    x = 0\n",
    "    y = 0\n",
    "    for i in a:\n",
    "        if i.isalpha() is True:\n",
    "            x += 1\n",
    "        if i.isdigit() is True:\n",
    "            y += 1\n",
    "    z = len(a) - x - y\n",
    "    print(x)\n",
    "    print(y)\n",
    "    print(z)"
   ]
  },
  {
   "cell_type": "markdown",
   "id": "latest-brother",
   "metadata": {},
   "source": [
    "## Проверка"
   ]
  },
  {
   "cell_type": "code",
   "execution_count": 2,
   "id": "bearing-platform",
   "metadata": {},
   "outputs": [],
   "source": [
    "test = ['**Hello123**', '254', '$$$55gg']"
   ]
  },
  {
   "cell_type": "code",
   "execution_count": 3,
   "id": "optimum-biography",
   "metadata": {},
   "outputs": [
    {
     "name": "stdout",
     "output_type": "stream",
     "text": [
      "**Hello123**\n",
      "5\n",
      "3\n",
      "4\n",
      "\n",
      "254\n",
      "0\n",
      "3\n",
      "0\n",
      "\n",
      "$$$55gg\n",
      "2\n",
      "2\n",
      "3\n",
      "\n"
     ]
    }
   ],
   "source": [
    "for x in test:\n",
    "    print(x), count_symbols(x), print()"
   ]
  },
  {
   "cell_type": "code",
   "execution_count": null,
   "id": "willing-wagner",
   "metadata": {},
   "outputs": [],
   "source": []
  }
 ],
 "metadata": {
  "kernelspec": {
   "display_name": "Python 3",
   "language": "python",
   "name": "python3"
  },
  "language_info": {
   "codemirror_mode": {
    "name": "ipython",
    "version": 3
   },
   "file_extension": ".py",
   "mimetype": "text/x-python",
   "name": "python",
   "nbconvert_exporter": "python",
   "pygments_lexer": "ipython3",
   "version": "3.8.3"
  }
 },
 "nbformat": 4,
 "nbformat_minor": 5
}
