{
 "cells": [
  {
   "cell_type": "markdown",
   "id": "differential-demonstration",
   "metadata": {},
   "source": [
    "# Задание \"Система Т9\""
   ]
  },
  {
   "cell_type": "markdown",
   "id": "animal-minority",
   "metadata": {},
   "source": [
    "Во времена кнопочных телефонов была популярна система ввода символов T9. Она использовала список известных слов, чтобы из всех возможных комбинаций (каждой цифре соответствует несколько букв) оставить только \"настоящие\" слова. Осуществите фильтрацию по нажатым клавишам заданных слов и оставьте только те слова, начало которых может быть набрано предложенной комбинацией цифр. В первой строке вводится список слов, во второй сочетание клавиш. Учитывать только кириллицу."
   ]
  },
  {
   "cell_type": "markdown",
   "id": "smooth-hampshire",
   "metadata": {},
   "source": [
    "## Формат ввода\n",
    "\n",
    "***кот арбуз слово завтрак кнопка лес Лоб***\n",
    "\n",
    "***45***\n",
    "\n",
    "## Формат вывода\n",
    "\n",
    "***кот кнопка Лоб***"
   ]
  },
  {
   "cell_type": "markdown",
   "id": "thousand-photograph",
   "metadata": {},
   "source": [
    "## Решение"
   ]
  },
  {
   "cell_type": "code",
   "execution_count": 1,
   "id": "spectacular-reader",
   "metadata": {},
   "outputs": [],
   "source": [
    "def t9_check(a, b):\n",
    "    a = str(a)\n",
    "    b = str(b)\n",
    "    la = a.split()\n",
    "    lb = []\n",
    "    for x in b:\n",
    "        lb.append(int(x))\n",
    "    t9 = {2: ['а', 'б', 'в', 'г'],\n",
    "          3: ['д', 'е', 'ж', 'з'],\n",
    "          4: ['и', 'й', 'к', 'л'],\n",
    "          5: ['м', 'н', 'о', 'п'],\n",
    "          6: ['р', 'с', 'т', 'у'],\n",
    "          7: ['ф', 'х', 'ц', 'ч'],\n",
    "          8: ['ш', 'ц', 'ъ', 'ы'],\n",
    "          9: ['ь', 'э', 'ю', 'я']}\n",
    "    lc = []\n",
    "    cou = 0\n",
    "    for z in la:\n",
    "        for i in range(len(lb)):\n",
    "            if z[i].lower() in t9.get(lb[i]) or z[i].upper() in t9.get(lb[i]):\n",
    "                cou += 1\n",
    "        if cou == len(lb):\n",
    "            lc.append(z)\n",
    "        cou = 0\n",
    "    print(' '.join(lc))\n"
   ]
  },
  {
   "cell_type": "markdown",
   "id": "second-fraction",
   "metadata": {},
   "source": [
    "## Проверка"
   ]
  },
  {
   "cell_type": "code",
   "execution_count": 2,
   "id": "dressed-maintenance",
   "metadata": {},
   "outputs": [],
   "source": [
    "test = [['кот арбуз слово завтрак кнопка лес Лоб', 45],\n",
    "        ['кУКла АзбукА кабан баЗука баНкА кулак', 22]]"
   ]
  },
  {
   "cell_type": "code",
   "execution_count": 3,
   "id": "peaceful-orientation",
   "metadata": {},
   "outputs": [
    {
     "name": "stdout",
     "output_type": "stream",
     "text": [
      "['кот арбуз слово завтрак кнопка лес Лоб', 45]\n",
      "кот кнопка Лоб\n",
      "...\n",
      "['кУКла АзбукА кабан баЗука баНкА кулак', 22]\n",
      "баЗука баНкА\n",
      "...\n"
     ]
    }
   ],
   "source": [
    "for t in test:\n",
    "    print(t), t9_check(t[0], t[1]), print('...')"
   ]
  },
  {
   "cell_type": "code",
   "execution_count": null,
   "id": "departmental-zoning",
   "metadata": {},
   "outputs": [],
   "source": []
  }
 ],
 "metadata": {
  "kernelspec": {
   "display_name": "Python 3",
   "language": "python",
   "name": "python3"
  },
  "language_info": {
   "codemirror_mode": {
    "name": "ipython",
    "version": 3
   },
   "file_extension": ".py",
   "mimetype": "text/x-python",
   "name": "python",
   "nbconvert_exporter": "python",
   "pygments_lexer": "ipython3",
   "version": "3.8.3"
  }
 },
 "nbformat": 4,
 "nbformat_minor": 5
}
